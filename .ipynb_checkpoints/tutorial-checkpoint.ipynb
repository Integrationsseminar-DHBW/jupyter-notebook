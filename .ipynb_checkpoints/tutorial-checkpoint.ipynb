{
 "cells": [
  {
   "cell_type": "markdown",
   "id": "0c4aca66",
   "metadata": {},
   "source": [
    "\n",
    "## Grundlagen von Vektoren\n",
    "\n",
    "Ein **Vektor** ist in der Mathematik und Informatik eine geordnete Liste von Zahlen – oft als Punkt in einem mehrdimensionalen Raum aufgefasst. Typischerweise spricht man von einem $n$-dimensionalen Vektor:\n",
    "\n",
    "$$\n",
    "\\mathbf{v} = (v_1, v_2, \\dots, v_n)\n",
    "$$\n",
    "\n",
    "wobei jedes $v_i$ eine Komponente darstellt. In Machine-Learning-Anwendungen entstehen Vektoren oft als **Embeddings**, z. B. aus neuronalen Netzen, die Wörter, Bilder oder Dokumente auf $\\mathbb{R}^{128}$ oder $\\mathbb{R}^{768}$ abbilden.\n",
    "\n",
    "- **Länge/Norm**: \n",
    "  $$\n",
    "  \\|\\mathbf{v}\\| = \\sqrt{\\sum_{i=1}^n v_i^2}\n",
    "  $$\n",
    "- **Ähnlichkeit**:  \n",
    "  Cosinus-Ähnlichkeit  \n",
    "  $$\n",
    "  \\cos(\\mathbf{a}, \\mathbf{b}) \n",
    "  = \\frac{\\mathbf{a} \\cdot \\mathbf{b}}{\\|\\mathbf{a}\\| \\, \\|\\mathbf{b}\\|}\n",
    "  $$\n",
    "  oder euklidische Distanz  \n",
    "  $$\n",
    "  \\|\\mathbf{a} - \\mathbf{b}\\|\n",
    "  $$\n",
    "- **Operatoren**: Addition, Skalarmultiplikation, Punktprodukt  \n",
    "\n",
    "---"
   ]
  },
  {
   "cell_type": "markdown",
   "id": "81ac2670",
   "metadata": {},
   "source": [
    "## 🌐 Was sind Vector-Datenbanken?\n",
    "\n",
    "Eine **Vector-Datenbank** ist eine spezialisierte Datenbank, die große Mengen von Vektoren (z. B. Embeddings) effizient speichert und durchsucht. Ihr Fokus liegt auf:\n",
    "\n",
    "### 🔍 Kern-Funktionalitäten\n",
    "\n",
    "1. **Speicherung**  \n",
    "   - Hochvolumige Vektor-Daten (z. B. 128- bis 768-dimensionale Embeddings)  \n",
    "   - Komprimierung / Quantisierung für geringen Speicher-Footprint  \n",
    "\n",
    "2. **Ähnlichkeitssuche (Nearest Neighbor Search)**  \n",
    "   - „Finde die _k_ ähnlichsten Vektoren zu einem Query-Vektor“  \n",
    "   - Millisekunden-Antwortzeiten auch bei Millionen von Vektoren  \n",
    "\n",
    "3. **Indexierung**  \n",
    "   - Approximate Nearest Neighbor (ANN)-Algorithmen:  \n",
    "     - **HNSW** (Hierarchical Navigable Small World)  \n",
    "     - **IVF-PQ** (Inverted File mit Product Quantization)  \n",
    "     - **Faiss Graph-Indexe**  \n",
    "   - Balance zwischen Genauigkeit und Geschwindigkeit über Parametersteuerung  \n",
    "\n",
    "4. **Metadaten-Filtering**  \n",
    "   - Kombinierte Suche: Vektor-Ähnlichkeit + klassische Filter (z. B. Zeitbereich, Tags)  \n",
    "   - Boolesche, Range- und Geo-Filter direkt im Query  \n",
    "\n",
    "5. **Skalierung & Verfügbarkeit**  \n",
    "   - **Sharding**: Verteilung von Collections über mehrere Knoten  \n",
    "   - **Replikation**: Ausfallsicherheit durch Leader-/Follower-Strategien  \n",
    "   - Konsistenzmodelle (z. B. quorum-basiert)  \n",
    "\n",
    "---\n",
    "\n",
    "### 🧩 Typische Komponenten\n",
    "\n",
    "| Komponente    | Beschreibung                                                                 |\n",
    "|---------------|------------------------------------------------------------------------------|\n",
    "| **Collection / Index** | Logische Gruppierung gleichformatiger Vektoren                       |\n",
    "| **Payload**   | Schlüssel–Wert-Metadaten zu jedem Vektor (z. B. Dokument-ID, Timestamp)      |\n",
    "| **API**       | REST & gRPC Endpunkte für Upsert, Search, Scroll, Delete, Bulk-Operationen   |\n",
    "| **SDKs**      | Offizielle Clients in Python, Go, Java, JavaScript u.v.m.                    |\n",
    "| **Cluster-Modus** | Automatisches Sharding, Replikation & Load Balancing                   |\n",
    "\n",
    "---\n",
    "\n",
    "> **Tipp:**  \n",
    "> Nutze Payload-Filter, um die Vektor-Suche auf relevante Subsets zu beschränken (z. B. nur Einträge aus 2024).  \n",
    "\n",
    "---\n",
    "\n",
    " "
   ]
  },
  {
   "cell_type": "markdown",
   "id": "f421201c",
   "metadata": {},
   "source": [
    "\n",
    "## 🏗️ Aufbau von Qdrant\n",
    "\n",
    "Qdrant (Quick Distance) ist eine leistungsstarke Open-Source-Vector-Datenbank mit einem Rust-basierten Kern und HNSW-Indexierung.\n",
    "\n",
    "### ⚙️ Architektur\n",
    "\n",
    "1. **Core (Rust)**  \n",
    "   - Effizientes Speicher- & Thread-Management  \n",
    "   - Geringer Ressourcen-Footprint  \n",
    "\n",
    "2. **Collections**  \n",
    "   - Gruppierung fester dimensionaler Vektorfelder  \n",
    "   - Anpassbare HNSW-Parameter:  \n",
    "     - **M**: Anzahl Nachbarn pro Layer  \n",
    "     - **ef_construction**: Konstruktionstiefe  \n",
    "     - **ef_search**: Suchgenauigkeit vs. Geschwindigkeit  \n",
    "\n",
    "3. **Index-Engine: HNSW**  \n",
    "   - Hierarchical Navigable Small World Graph  \n",
    "   - Hochperformante Approximate Nearest Neighbor Search  \n",
    "\n",
    "### 💾 Speicherung & Persistenz\n",
    "\n",
    "| Bereich        | Details                                                    |\n",
    "| -------------- | ---------------------------------------------------------- |\n",
    "| **Vektoren**   | Komprimiert & quantisiert auf SSD/Platte                  |\n",
    "| **Payload**    | Separates Key–Value Store für Metadaten                    |\n",
    "| **Metadaten**  | Optional: RocksDB für ACID-Konformität                    |\n",
    "\n",
    "\n",
    "### 🛠️ API & SDKs\n",
    "\n",
    "| Schnittstelle | Zweck                                   |\n",
    "| ------------- | --------------------------------------- |\n",
    "| **gRPC**      | Hoher Durchsatz, niedrige Latenz        |\n",
    "| **REST**      | Einfache Integration & Testbarkeit      |\n",
    "| **SDKs**      | Python · Go · Java · JavaScript · …     |\n",
    "\n",
    "**Wichtige Endpunkte**: `upsert`, `search`, `scroll`, `delete`\n",
    "\n",
    "\n",
    "### 🔄 Cluster-Modus & Skalierung\n",
    "\n",
    "- **Sharding**: Automatische Verteilung von Collections  \n",
    "- **Replikation**: Leader-/Follower-Strategie für Ausfallsicherheit  \n",
    "- **Konsistenz**: Quorum-basiertes Schreib-/Lese-Modell  \n",
    "\n",
    "\n",
    "### 🎁 Zusatzfeatures\n",
    "\n",
    "- **Payload-Filter**: Boolesche, Range- & Geo-Abfragen  \n",
    "- **Batch-API**: Bulk-Operationen für Upsert & Search  \n",
    "- **Snapshot & Backup**: Point-in-Time-Wiederherstellung  \n",
    "\n",
    "\n",
    "> **Pro-Tipp:** Nutze den Kubernetes-Operator für automatisches Scaling und Rolling Updates.\n"
   ]
  },
  {
   "cell_type": "markdown",
   "id": "eb1ed7ee",
   "metadata": {},
   "source": [
    "### 0. Installation (einmalig)"
   ]
  },
  {
   "cell_type": "code",
   "execution_count": 6,
   "id": "3ab7ba88",
   "metadata": {},
   "outputs": [
    {
     "name": "stdout",
     "output_type": "stream",
     "text": [
      "Requirement already satisfied: qdrant-client in /home/sch/integrationsseminar/.venv/lib/python3.11/site-packages (1.14.2)\n",
      "Collecting infisicalsdk\n",
      "  Downloading infisicalsdk-1.0.8-py3-none-any.whl.metadata (725 bytes)\n",
      "Requirement already satisfied: grpcio>=1.41.0 in /home/sch/integrationsseminar/.venv/lib/python3.11/site-packages (from qdrant-client) (1.71.0)\n",
      "Requirement already satisfied: httpx>=0.20.0 in /home/sch/integrationsseminar/.venv/lib/python3.11/site-packages (from httpx[http2]>=0.20.0->qdrant-client) (0.28.1)\n",
      "Requirement already satisfied: numpy>=1.21 in /home/sch/integrationsseminar/.venv/lib/python3.11/site-packages (from qdrant-client) (2.2.5)\n",
      "Requirement already satisfied: portalocker<3.0.0,>=2.7.0 in /home/sch/integrationsseminar/.venv/lib/python3.11/site-packages (from qdrant-client) (2.10.1)\n",
      "Requirement already satisfied: protobuf>=3.20.0 in /home/sch/integrationsseminar/.venv/lib/python3.11/site-packages (from qdrant-client) (6.30.2)\n",
      "Requirement already satisfied: pydantic!=2.0.*,!=2.1.*,!=2.2.0,>=1.10.8 in /home/sch/integrationsseminar/.venv/lib/python3.11/site-packages (from qdrant-client) (2.11.4)\n",
      "Requirement already satisfied: urllib3<3,>=1.26.14 in /home/sch/integrationsseminar/.venv/lib/python3.11/site-packages (from qdrant-client) (2.4.0)\n",
      "Requirement already satisfied: python-dateutil in /home/sch/integrationsseminar/.venv/lib/python3.11/site-packages (from infisicalsdk) (2.9.0.post0)\n",
      "Collecting aenum (from infisicalsdk)\n",
      "  Downloading aenum-3.1.16-py3-none-any.whl.metadata (3.8 kB)\n",
      "Collecting requests~=2.32 (from infisicalsdk)\n",
      "  Downloading requests-2.32.3-py3-none-any.whl.metadata (4.6 kB)\n",
      "Collecting boto3~=1.35 (from infisicalsdk)\n",
      "  Downloading boto3-1.38.13-py3-none-any.whl.metadata (6.6 kB)\n",
      "Collecting botocore~=1.35 (from infisicalsdk)\n",
      "  Downloading botocore-1.38.13-py3-none-any.whl.metadata (5.7 kB)\n",
      "Collecting jmespath<2.0.0,>=0.7.1 (from boto3~=1.35->infisicalsdk)\n",
      "  Downloading jmespath-1.0.1-py3-none-any.whl.metadata (7.6 kB)\n",
      "Collecting s3transfer<0.13.0,>=0.12.0 (from boto3~=1.35->infisicalsdk)\n",
      "  Downloading s3transfer-0.12.0-py3-none-any.whl.metadata (1.7 kB)\n",
      "Requirement already satisfied: six>=1.5 in /home/sch/integrationsseminar/.venv/lib/python3.11/site-packages (from python-dateutil->infisicalsdk) (1.17.0)\n",
      "Collecting charset-normalizer<4,>=2 (from requests~=2.32->infisicalsdk)\n",
      "  Downloading charset_normalizer-3.4.2-cp311-cp311-manylinux_2_17_x86_64.manylinux2014_x86_64.whl.metadata (35 kB)\n",
      "Requirement already satisfied: idna<4,>=2.5 in /home/sch/integrationsseminar/.venv/lib/python3.11/site-packages (from requests~=2.32->infisicalsdk) (3.10)\n",
      "Requirement already satisfied: certifi>=2017.4.17 in /home/sch/integrationsseminar/.venv/lib/python3.11/site-packages (from requests~=2.32->infisicalsdk) (2025.4.26)\n",
      "Requirement already satisfied: anyio in /home/sch/integrationsseminar/.venv/lib/python3.11/site-packages (from httpx>=0.20.0->httpx[http2]>=0.20.0->qdrant-client) (4.9.0)\n",
      "Requirement already satisfied: httpcore==1.* in /home/sch/integrationsseminar/.venv/lib/python3.11/site-packages (from httpx>=0.20.0->httpx[http2]>=0.20.0->qdrant-client) (1.0.9)\n",
      "Requirement already satisfied: h11>=0.16 in /home/sch/integrationsseminar/.venv/lib/python3.11/site-packages (from httpcore==1.*->httpx>=0.20.0->httpx[http2]>=0.20.0->qdrant-client) (0.16.0)\n",
      "Requirement already satisfied: h2<5,>=3 in /home/sch/integrationsseminar/.venv/lib/python3.11/site-packages (from httpx[http2]>=0.20.0->qdrant-client) (4.2.0)\n",
      "Requirement already satisfied: hyperframe<7,>=6.1 in /home/sch/integrationsseminar/.venv/lib/python3.11/site-packages (from h2<5,>=3->httpx[http2]>=0.20.0->qdrant-client) (6.1.0)\n",
      "Requirement already satisfied: hpack<5,>=4.1 in /home/sch/integrationsseminar/.venv/lib/python3.11/site-packages (from h2<5,>=3->httpx[http2]>=0.20.0->qdrant-client) (4.1.0)\n",
      "Requirement already satisfied: annotated-types>=0.6.0 in /home/sch/integrationsseminar/.venv/lib/python3.11/site-packages (from pydantic!=2.0.*,!=2.1.*,!=2.2.0,>=1.10.8->qdrant-client) (0.7.0)\n",
      "Requirement already satisfied: pydantic-core==2.33.2 in /home/sch/integrationsseminar/.venv/lib/python3.11/site-packages (from pydantic!=2.0.*,!=2.1.*,!=2.2.0,>=1.10.8->qdrant-client) (2.33.2)\n",
      "Requirement already satisfied: typing-extensions>=4.12.2 in /home/sch/integrationsseminar/.venv/lib/python3.11/site-packages (from pydantic!=2.0.*,!=2.1.*,!=2.2.0,>=1.10.8->qdrant-client) (4.13.2)\n",
      "Requirement already satisfied: typing-inspection>=0.4.0 in /home/sch/integrationsseminar/.venv/lib/python3.11/site-packages (from pydantic!=2.0.*,!=2.1.*,!=2.2.0,>=1.10.8->qdrant-client) (0.4.0)\n",
      "Requirement already satisfied: sniffio>=1.1 in /home/sch/integrationsseminar/.venv/lib/python3.11/site-packages (from anyio->httpx>=0.20.0->httpx[http2]>=0.20.0->qdrant-client) (1.3.1)\n",
      "Downloading infisicalsdk-1.0.8-py3-none-any.whl (13 kB)\n",
      "Downloading boto3-1.38.13-py3-none-any.whl (139 kB)\n",
      "Downloading botocore-1.38.13-py3-none-any.whl (13.5 MB)\n",
      "\u001b[2K   \u001b[90m━━━━━━━━━━━━━━━━━━━━━━━━━━━━━━━━━━━━━━━━\u001b[0m \u001b[32m13.5/13.5 MB\u001b[0m \u001b[31m6.7 MB/s\u001b[0m eta \u001b[36m0:00:00\u001b[0m00:01\u001b[0m00:01\u001b[0m\n",
      "\u001b[?25hDownloading jmespath-1.0.1-py3-none-any.whl (20 kB)\n",
      "Downloading requests-2.32.3-py3-none-any.whl (64 kB)\n",
      "Downloading charset_normalizer-3.4.2-cp311-cp311-manylinux_2_17_x86_64.manylinux2014_x86_64.whl (147 kB)\n",
      "Downloading s3transfer-0.12.0-py3-none-any.whl (84 kB)\n",
      "Downloading aenum-3.1.16-py3-none-any.whl (165 kB)\n",
      "Installing collected packages: aenum, jmespath, charset-normalizer, requests, botocore, s3transfer, boto3, infisicalsdk\n",
      "\u001b[2K   \u001b[90m━━━━━━━━━━━━━━━━━━━━━━━━━━━━━━━━━━━━━━━━\u001b[0m \u001b[32m8/8\u001b[0m [infisicalsdk][0m [boto3]re]\n",
      "\u001b[1A\u001b[2KSuccessfully installed aenum-3.1.16 boto3-1.38.13 botocore-1.38.13 charset-normalizer-3.4.2 infisicalsdk-1.0.8 jmespath-1.0.1 requests-2.32.3 s3transfer-0.12.0\n",
      "Note: you may need to restart the kernel to use updated packages.\n"
     ]
    }
   ],
   "source": [
    "pip install qdrant-client infisicalsdk"
   ]
  },
  {
   "cell_type": "markdown",
   "id": "ec9de5a2",
   "metadata": {},
   "source": [
    "### 1. Qdrant-Client initialisieren\n",
    "\n",
    "Wir verbinden uns mit dem Qdrant-Server. Entweder lokal (Standard: http://localhost:6333) oder über einen gehosteten Dienst mit API-Key.\n"
   ]
  },
  {
   "cell_type": "code",
   "execution_count": 70,
   "id": "9341571e",
   "metadata": {},
   "outputs": [
    {
     "name": "stdout",
     "output_type": "stream",
     "text": [
      "Verbunden mit Qdrant!\n"
     ]
    }
   ],
   "source": [
    "from qdrant_client import QdrantClient\n",
    "from qdrant_client.http import models as rest\n",
    "from infisical_sdk import InfisicalSDKClient\n",
    "\n",
    "# Infisical-Client initialisieren\n",
    "client = InfisicalSDKClient(host=\"https://secrets.irrelephant.me\")\n",
    "client.auth.universal_auth.login(\n",
    "  \"77af113f-04b9-4db4-b951-257f3d6e9e7a\",\n",
    "  \"a00a33ac1c8c816339aa359fa25ef1d45d5817d9f5b6c412b89078914c1211e4\"\n",
    ")\n",
    "\n",
    "# Qdrant API-Key abrufen\n",
    "qdrant_api_key = client.secrets.get_secret_by_name(\n",
    "    \"QDRANT-API\",\n",
    "    \"3b7f12a3-b202-47a8-a5db-510b3c0df44b\",\n",
    "    \"prod\",\n",
    "    \"/\"\n",
    ").secretValue\n",
    "\n",
    "\n",
    "\n",
    "# Lokal gestarteter Qdrant-Server\n",
    "#client = QdrantClient(url=\"http://qdrant.irrelephant.me:443\", prefer_grpc=False)\n",
    "\n",
    "#Bei gehostetem Dienst:\n",
    "client = QdrantClient(\n",
    "    url=\"https://qdrant.irrelephant.me\",\n",
    "    api_key=qdrant_api_key,\n",
    "    prefer_grpc=False,\n",
    "    port=443\n",
    ")\n",
    "print(\"Verbunden mit Qdrant!\")\n"
   ]
  },
  {
   "cell_type": "markdown",
   "id": "09cb3f9e",
   "metadata": {},
   "source": [
    "### 2. Collection anlegen\n",
    "\n",
    "Eine **Collection** ist die logische Gruppe von gleichformatigen Vektoren.  \n",
    "Wir legen hier eine Collection „my_vectors“ mit 128-dimensionalen Cosine-Vektoren an.\n"
   ]
  },
  {
   "cell_type": "code",
   "execution_count": 71,
   "id": "67e9eb2c",
   "metadata": {},
   "outputs": [
    {
     "name": "stdout",
     "output_type": "stream",
     "text": [
      "Alte Collection 'my_vectors' gelöscht.\n",
      "Collection 'my_vectors' erfolgreich erstellt!\n"
     ]
    }
   ],
   "source": [
    "\n",
    "from qdrant_client.http import models as rest\n",
    "\n",
    "collection_name = \"my_vectors\"\n",
    "vector_size     = 128\n",
    "distance_metric = rest.Distance.COSINE\n",
    "\n",
    "# Vorhandene Collection löschen\n",
    "if client.collection_exists(collection_name):\n",
    "    client.delete_collection(collection_name)\n",
    "    print(f\"Alte Collection '{collection_name}' gelöscht.\")\n",
    "\n",
    "# Neue Collection erstellen\n",
    "client.create_collection(\n",
    "    collection_name=collection_name,\n",
    "    vectors_config=rest.VectorParams(\n",
    "        size=vector_size,\n",
    "        distance=distance_metric\n",
    "    )\n",
    ")\n",
    "print(f\"Collection '{collection_name}' erfolgreich erstellt!\")\n"
   ]
  },
  {
   "cell_type": "markdown",
   "id": "015daa7d",
   "metadata": {},
   "source": [
    "### 3. Vektoren einfügen (Upsert)\n",
    "\n",
    "Statt `PointsList` nutzt man jetzt `PointStruct`.  \n",
    "Jeder Punkt erhält ein `id`, einen `vector` und optional ein `payload`-Dict.\n"
   ]
  },
  {
   "cell_type": "code",
   "execution_count": 72,
   "id": "24319d2f",
   "metadata": {},
   "outputs": [
    {
     "name": "stdout",
     "output_type": "stream",
     "text": [
      "Top-3 ähnliche Vektoren:\n"
     ]
    }
   ],
   "source": [
    "# Cell 5: Ähnlichkeitssuche (Search) – Code\n",
    "from qdrant_client.http.models import SearchRequest\n",
    "import numpy as np\n",
    "\n",
    "# Erzeuge einen zufälligen Query-Vektor\n",
    "query_vector = np.random.rand(vector_size).tolist()\n",
    "\n",
    "# Suche die Top-3 ähnlichsten Vektoren\n",
    "results = client.query_points(\n",
    "    collection_name=collection_name,\n",
    "    query=query_vector,  \n",
    "    limit=3,\n",
    "    with_payload=True\n",
    ")\n",
    "\n",
    "# Ergebnisse ausgeben\n",
    "print(\"Top-3 ähnliche Vektoren:\")\n",
    "for hit in results.points:  # Access the points attribute of QueryResponse\n",
    "    print(f\"ID={hit.id}  Score={hit.score:.4f}  Payload={hit.payload}\")\n",
    "\n"
   ]
  },
  {
   "cell_type": "markdown",
   "id": "68b34fe0",
   "metadata": {},
   "source": [
    "### 5 Ähnlichkeitssuche (Search)\n",
    "Mit `client.query_points` findest du die _k_ ähnlichsten Vektoren zu einem gegebenen Query-Vektor.  \n",
    "Dabei kannst du einstellen, wie viele Ergebnisse (`limit`) du zurückbekommst und ob das zugehörige Payload mitgeliefert wird (`with_payload=True`).\n",
    "\n",
    "**Parameter**  \n",
    "- `collection_name`: Name der Collection, in der gesucht wird  \n",
    "- `query_vector`: Liste mit `vector_size` reellen Zahlen  \n",
    "- `limit`: Anzahl der zurückzugebenden Top-Ergebnisse  \n",
    "- `with_payload`: ob Metadaten (Payload) mitgeliefert werden sollen  \n",
    "\n",
    "**Rückgabe**  \n",
    "Eine Liste von Treffer-Objekten mit  \n",
    "- `id`: ID des Vektors  \n",
    "- `score`: Ähnlichkeitswert (je höher, desto ähnlicher)  \n",
    "- `payload`: das zugehörige Metadaten-Dict "
   ]
  },
  {
   "cell_type": "code",
   "execution_count": 1,
   "id": "204f5289",
   "metadata": {},
   "outputs": [
    {
     "ename": "NameError",
     "evalue": "name 'vector_size' is not defined",
     "output_type": "error",
     "traceback": [
      "\u001b[31m---------------------------------------------------------------------------\u001b[39m",
      "\u001b[31mNameError\u001b[39m                                 Traceback (most recent call last)",
      "\u001b[36mCell\u001b[39m\u001b[36m \u001b[39m\u001b[32mIn[1]\u001b[39m\u001b[32m, line 4\u001b[39m\n\u001b[32m      1\u001b[39m \u001b[38;5;28;01mimport\u001b[39;00m\u001b[38;5;250m \u001b[39m\u001b[34;01mnumpy\u001b[39;00m\u001b[38;5;250m \u001b[39m\u001b[38;5;28;01mas\u001b[39;00m\u001b[38;5;250m \u001b[39m\u001b[34;01mnp\u001b[39;00m\n\u001b[32m      3\u001b[39m \u001b[38;5;66;03m# 1) Zufälligen Query-Vektor erzeugen\u001b[39;00m\n\u001b[32m----> \u001b[39m\u001b[32m4\u001b[39m query_vector = np.random.rand(\u001b[43mvector_size\u001b[49m).tolist()\n\u001b[32m      6\u001b[39m \u001b[38;5;66;03m# 2) Suche ausführen (parameter name: query)\u001b[39;00m\n\u001b[32m      7\u001b[39m results = client.query_points(\n\u001b[32m      8\u001b[39m     collection_name=collection_name,\n\u001b[32m      9\u001b[39m     query=query_vector,\n\u001b[32m     10\u001b[39m     limit=\u001b[32m3\u001b[39m,\n\u001b[32m     11\u001b[39m     with_payload=\u001b[38;5;28;01mTrue\u001b[39;00m,\n\u001b[32m     12\u001b[39m )\n",
      "\u001b[31mNameError\u001b[39m: name 'vector_size' is not defined"
     ]
    }
   ],
   "source": [
    "\n",
    "import numpy as np\n",
    "\n",
    "# 1) Zufälligen Query-Vektor erzeugen\n",
    "query_vector = np.random.rand(vector_size).tolist()\n",
    "\n",
    "# 2) Suche ausführen (parameter name: query)\n",
    "results = client.query_points(\n",
    "    collection_name=collection_name,\n",
    "    query=query_vector,\n",
    "    limit=3,\n",
    "    with_payload=True,\n",
    ")\n",
    "\n",
    "# 3) Ergebnisse ausgeben\n",
    "print(\"Top-3 ähnliche Vektoren:\")\n",
    "for hit in results:\n",
    "    print(f\"ID={hit.id}  Score={hit.score:.4f}  Payload={hit.payload}\")\n"
   ]
  },
  {
   "cell_type": "markdown",
   "id": "c5af3010",
   "metadata": {},
   "source": [
    "### 6. Pagination mit Scroll\n",
    "\n",
    "Mit `scroll` iterieren wir sequentiell über alle Punkte in Batches.  \n",
    "Hier in Batch-Größe 2.\n"
   ]
  },
  {
   "cell_type": "code",
   "execution_count": 63,
   "id": "74ea3a92",
   "metadata": {},
   "outputs": [
    {
     "name": "stdout",
     "output_type": "stream",
     "text": [
      "Scroll Seite 1:\n",
      "ID=1 → Payload={'text': 'Dokument 1', 'year': 2023}\n",
      "ID=2 → Payload={'text': 'Dokument 2', 'year': 2022}\n",
      "\n",
      "Scroll Seite 2:\n",
      "ID=3 → Payload={'text': 'Dokument 3', 'year': 2021}\n",
      "ID=4 → Payload={'text': 'Dokument 4', 'year': 2020}\n",
      "\n",
      "Scroll Seite 3:\n",
      "ID=5 → Payload={'text': 'Dokument 5', 'year': 2019}\n"
     ]
    }
   ],
   "source": [
    "# 1) Erster Scroll-Aufruf\n",
    "points_page, next_offset = client.scroll(\n",
    "    collection_name=collection_name,\n",
    "    limit=2,\n",
    "    with_payload=True\n",
    ")\n",
    "\n",
    "# 2) Erste Seite ausgeben\n",
    "print(\"Scroll Seite 1:\")\n",
    "for p in points_page:\n",
    "    print(f\"ID={p.id} → Payload={p.payload}\")\n",
    "\n",
    "# 3) Weitere Seiten\n",
    "seite = 2\n",
    "while next_offset is not None:\n",
    "    points_page, next_offset = client.scroll(\n",
    "        collection_name=collection_name,\n",
    "        limit=2,\n",
    "        offset=next_offset,\n",
    "        with_payload=True\n",
    "    )\n",
    "    print(f\"\\nScroll Seite {seite}:\")\n",
    "    for p in points_page:\n",
    "        print(f\"ID={p.id} → Payload={p.payload}\")\n",
    "    seite += 1"
   ]
  },
  {
   "cell_type": "markdown",
   "id": "4f634895",
   "metadata": {},
   "source": [
    "### 7. Löschen von Punkten & Collection\n",
    "\n",
    "- Einzelnen Punkt löschen: `delete(point_id)`  \n",
    "- Ganze Collection entfernen: `delete_collection`\n"
   ]
  },
  {
   "cell_type": "code",
   "execution_count": 73,
   "id": "84c7c3e5",
   "metadata": {},
   "outputs": [
    {
     "name": "stdout",
     "output_type": "stream",
     "text": [
      "Punkt mit ID=3 gelöscht.\n",
      "Collection 'my_vectors' komplett entfernt.\n"
     ]
    }
   ],
   "source": [
    "\n",
    "# Einzelnen Punkt entfernen\n",
    "client.delete(\n",
    "    collection_name=collection_name,\n",
    "    points_selector=rest.PointIdsList(points=[3]) \n",
    ")\n",
    "print(\"Punkt mit ID=3 gelöscht.\")\n",
    "\n",
    "# Collection löschen\n",
    "client.delete_collection(collection_name=collection_name)\n",
    "print(f\"Collection '{collection_name}' komplett entfernt.\")\n"
   ]
  },
  {
   "cell_type": "markdown",
   "id": "48461806",
   "metadata": {},
   "source": [
    "## Codeblock für Libraries"
   ]
  },
  {
   "cell_type": "code",
   "execution_count": 1,
   "id": "32ccfe2d",
   "metadata": {},
   "outputs": [
    {
     "name": "stdout",
     "output_type": "stream",
     "text": [
      "Collecting numpy\n",
      "  Downloading numpy-2.2.5-cp311-cp311-manylinux_2_17_x86_64.manylinux2014_x86_64.whl.metadata (62 kB)\n",
      "Downloading numpy-2.2.5-cp311-cp311-manylinux_2_17_x86_64.manylinux2014_x86_64.whl (16.4 MB)\n",
      "\u001b[2K   \u001b[90m━━━━━━━━━━━━━━━━━━━━━━━━━━━━━━━━━━━━━━━━\u001b[0m \u001b[32m16.4/16.4 MB\u001b[0m \u001b[31m6.7 MB/s\u001b[0m eta \u001b[36m0:00:00\u001b[0m00:01\u001b[0m00:01\u001b[0m\n",
      "\u001b[?25hInstalling collected packages: numpy\n",
      "Successfully installed numpy-2.2.5\n",
      "Collecting matplotlib\n",
      "  Downloading matplotlib-3.10.3-cp311-cp311-manylinux_2_17_x86_64.manylinux2014_x86_64.whl.metadata (11 kB)\n",
      "Collecting contourpy>=1.0.1 (from matplotlib)\n",
      "  Downloading contourpy-1.3.2-cp311-cp311-manylinux_2_17_x86_64.manylinux2014_x86_64.whl.metadata (5.5 kB)\n",
      "Collecting cycler>=0.10 (from matplotlib)\n",
      "  Downloading cycler-0.12.1-py3-none-any.whl.metadata (3.8 kB)\n",
      "Collecting fonttools>=4.22.0 (from matplotlib)\n",
      "  Downloading fonttools-4.57.0-cp311-cp311-manylinux_2_17_x86_64.manylinux2014_x86_64.whl.metadata (102 kB)\n",
      "Collecting kiwisolver>=1.3.1 (from matplotlib)\n",
      "  Downloading kiwisolver-1.4.8-cp311-cp311-manylinux_2_17_x86_64.manylinux2014_x86_64.whl.metadata (6.2 kB)\n",
      "Requirement already satisfied: numpy>=1.23 in /home/sch/integrationsseminar/.venv/lib/python3.11/site-packages (from matplotlib) (2.2.5)\n",
      "Requirement already satisfied: packaging>=20.0 in /home/sch/integrationsseminar/.venv/lib/python3.11/site-packages (from matplotlib) (25.0)\n",
      "Collecting pillow>=8 (from matplotlib)\n",
      "  Downloading pillow-11.2.1-cp311-cp311-manylinux_2_28_x86_64.whl.metadata (8.9 kB)\n",
      "Collecting pyparsing>=2.3.1 (from matplotlib)\n",
      "  Downloading pyparsing-3.2.3-py3-none-any.whl.metadata (5.0 kB)\n",
      "Requirement already satisfied: python-dateutil>=2.7 in /home/sch/integrationsseminar/.venv/lib/python3.11/site-packages (from matplotlib) (2.9.0.post0)\n",
      "Requirement already satisfied: six>=1.5 in /home/sch/integrationsseminar/.venv/lib/python3.11/site-packages (from python-dateutil>=2.7->matplotlib) (1.17.0)\n",
      "Downloading matplotlib-3.10.3-cp311-cp311-manylinux_2_17_x86_64.manylinux2014_x86_64.whl (8.6 MB)\n",
      "\u001b[2K   \u001b[90m━━━━━━━━━━━━━━━━━━━━━━━━━━━━━━━━━━━━━━━━\u001b[0m \u001b[32m8.6/8.6 MB\u001b[0m \u001b[31m6.8 MB/s\u001b[0m eta \u001b[36m0:00:00\u001b[0ma \u001b[36m0:00:01\u001b[0m\n",
      "\u001b[?25hDownloading contourpy-1.3.2-cp311-cp311-manylinux_2_17_x86_64.manylinux2014_x86_64.whl (326 kB)\n",
      "Downloading cycler-0.12.1-py3-none-any.whl (8.3 kB)\n",
      "Downloading fonttools-4.57.0-cp311-cp311-manylinux_2_17_x86_64.manylinux2014_x86_64.whl (4.9 MB)\n",
      "\u001b[2K   \u001b[90m━━━━━━━━━━━━━━━━━━━━━━━━━━━━━━━━━━━━━━━━\u001b[0m \u001b[32m4.9/4.9 MB\u001b[0m \u001b[31m6.7 MB/s\u001b[0m eta \u001b[36m0:00:00\u001b[0ma \u001b[36m0:00:01\u001b[0m\n",
      "\u001b[?25hDownloading kiwisolver-1.4.8-cp311-cp311-manylinux_2_17_x86_64.manylinux2014_x86_64.whl (1.4 MB)\n",
      "\u001b[2K   \u001b[90m━━━━━━━━━━━━━━━━━━━━━━━━━━━━━━━━━━━━━━━━\u001b[0m \u001b[32m1.4/1.4 MB\u001b[0m \u001b[31m6.9 MB/s\u001b[0m eta \u001b[36m0:00:00\u001b[0ma \u001b[36m0:00:01\u001b[0m\n",
      "\u001b[?25hDownloading pillow-11.2.1-cp311-cp311-manylinux_2_28_x86_64.whl (4.6 MB)\n",
      "\u001b[2K   \u001b[90m━━━━━━━━━━━━━━━━━━━━━━━━━━━━━━━━━━━━━━━━\u001b[0m \u001b[32m4.6/4.6 MB\u001b[0m \u001b[31m6.8 MB/s\u001b[0m eta \u001b[36m0:00:00\u001b[0ma \u001b[36m0:00:01\u001b[0m\n",
      "\u001b[?25hDownloading pyparsing-3.2.3-py3-none-any.whl (111 kB)\n",
      "Installing collected packages: pyparsing, pillow, kiwisolver, fonttools, cycler, contourpy, matplotlib\n",
      "\u001b[2K   \u001b[90m━━━━━━━━━━━━━━━━━━━━━━━━━━━━━━━━━━━━━━━━\u001b[0m \u001b[32m7/7\u001b[0m [matplotlib]7\u001b[0m [matplotlib]\n",
      "\u001b[1A\u001b[2KSuccessfully installed contourpy-1.3.2 cycler-0.12.1 fonttools-4.57.0 kiwisolver-1.4.8 matplotlib-3.10.3 pillow-11.2.1 pyparsing-3.2.3\n",
      "\u001b[31mERROR: Could not find a version that satisfies the requirement mpl_toolkits (from versions: none)\u001b[0m\u001b[31m\n",
      "\u001b[0m\u001b[31mERROR: No matching distribution found for mpl_toolkits\u001b[0m\u001b[31m\n",
      "\u001b[0m"
     ]
    }
   ],
   "source": [
    "import sys\n",
    "!{sys.executable} -m pip install numpy\n",
    "!{sys.executable} -m pip install matplotlib\n",
    "!{sys.executable} -m pip install mpl_toolkits"
   ]
  },
  {
   "cell_type": "markdown",
   "id": "9aa91222",
   "metadata": {},
   "source": [
    "## Suchverfahren:\n",
    "\n",
    "### ANN (Approximate Nearest Neighbor)\n",
    "\n",
    "**ANN** steht für **Approximate Nearest Neighbor**. Die ANN-Suche wird verwendet, um schnell die ähnlichsten Vektoren zu einem gegebenen Suchvektor zu finden und ist eine schnellere aber unpräzisere Alternative zu KNN.\n",
    "\n",
    "#### Warum \"approximate\"?\n",
    "\n",
    "Das exakte Finden der nächsten Nachbarn in sehr großen Datensätzen ist rechnerisch aufwendig und langsam. ANN-Algorithmen liefern stattdessen eine sehr gute Annäherung an das exakte Ergebnis, sind aber viel schneller und skalierbarer. Das ist besonders wichtig bei Anwendungen wie Bild-, Text- oder Ähnlichkeitssuche mit Millionen von Einträgen.\n",
    "\n",
    "#### Wie funktioniert die ANN-Suche in Qdrant?\n",
    "\n",
    "Statt alle Vektoren einzeln zu vergleichen (was einer Zeitkomplexität von O(n) entsprechen würde), nutzt Qdrant spezielle Algorithmen und Indexstrukturen wie HNSW (Hierarchical Navigable Small World Graph). Dadurch kann Qdrant sehr schnell die ähnlichsten Vektoren zu einem Suchvektor finden, ohne den gesamten Datensatz durchsuchen zu müssen.\n",
    "\n",
    "\n",
    "#### Vorteile der ANN-Suche\n",
    "\n",
    "- **Schnell:** Auch bei sehr großen Datenmengen.\n",
    "- **Skalierbar:** Funktioniert für Millionen von Vektoren.\n",
    "- **Flexibel:** Unterstützt verschiedene Ähnlichkeitsmetriken.\n",
    "\n",
    "#### Beispiel-Anwendung\n",
    "\n",
    "- Bildersuche: Finde ähnliche Bilder zu einem Beispielbild.\n",
    "- Empfehlungssysteme: Finde ähnliche Produkte oder Nutzer.\n",
    "- Semantische Textsuche: Finde Texte mit ähnlicher Bedeutung.\n",
    "\n",
    "**Zusammengefasst:**  \n",
    "Die ANN-Suche in Qdrant ermöglicht es, sehr schnell und effizient ähnliche Einträge in großen Vektor-Datenbanken zu finden, indem sie intelligente Algorithmen und Indexstrukturen nutzt."
   ]
  },
  {
   "cell_type": "code",
   "execution_count": 2,
   "id": "4fc623c2",
   "metadata": {},
   "outputs": [
    {
     "data": {
      "image/png": "[encoded data removed]",
      "text/plain": [
       "<Figure size 800x600 with 1 Axes>"
      ]
     },
     "metadata": {},
     "output_type": "display_data"
    }
   ],
   "source": [
    "import numpy as np\n",
    "import matplotlib.pyplot as plt\n",
    "from mpl_toolkits.mplot3d import Axes3D\n",
    "\n",
    "# Beispiel-Daten: 5 Vektoren mit je 3 Dimensionen\n",
    "vektoren = np.array([\n",
    "    [0.1, 0.2, 0.3],\n",
    "    [0.9, 0.8, 0.7],\n",
    "    [0.4, 0.4, 0.5],\n",
    "    [0.2, 0.1, 0.2],\n",
    "    [0.8, 0.7, 0.6]\n",
    "])\n",
    "\n",
    "# Unser Suchvektor\n",
    "suchvektor = np.array([0.3, 0.2, 0.4])\n",
    "\n",
    "# Kosinus-Ähnlichkeit berechnen\n",
    "def cosine_similarity(a, b):\n",
    "    return np.dot(a, b) / (np.linalg.norm(a) * np.linalg.norm(b))\n",
    "\n",
    "# Ähnlichkeiten berechnen\n",
    "ähnlichkeiten = [cosine_similarity(suchvektor, v) for v in vektoren]\n",
    "\n",
    "# Index des ähnlichsten Vektors finden\n",
    "bester_index = np.argmax(ähnlichkeiten)\n",
    "\n",
    "# Visualisierung\n",
    "fig = plt.figure(figsize=(8,6))\n",
    "ax = fig.add_subplot(111, projection='3d')\n",
    "\n",
    "# Alle Vektoren plotten\n",
    "ax.scatter(vektoren[:,0], vektoren[:,1], vektoren[:,2], c='blue', label='Vektoren')\n",
    "# Suchvektor plotten\n",
    "ax.scatter(suchvektor[0], suchvektor[1], suchvektor[2], c='red', s=100, label='Suchvektor')\n",
    "# Ähnlichster Vektor hervorheben\n",
    "ax.scatter(vektoren[bester_index,0], vektoren[bester_index,1], vektoren[bester_index,2], \n",
    "           c='green', s=100, label='Ähnlichster Vektor')\n",
    "\n",
    "ax.set_xlabel('X')\n",
    "ax.set_ylabel('Y')\n",
    "ax.set_zlabel('Z')\n",
    "ax.legend()\n",
    "plt.show()"
   ]
  }
 ],
 "metadata": {
  "kernelspec": {
   "display_name": "Python 3 (ipykernel)",
   "language": "python",
   "name": "python3"
  },
  "language_info": {
   "codemirror_mode": {
    "name": "ipython",
    "version": 3
   },
   "file_extension": ".py",
   "mimetype": "text/x-python",
   "name": "python",
   "nbconvert_exporter": "python",
   "pygments_lexer": "ipython3",
   "version": "3.11.2"
  }
 },
 "nbformat": 4,
 "nbformat_minor": 5
}
